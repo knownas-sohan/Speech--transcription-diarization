{
 "cells": [
  {
   "cell_type": "markdown",
   "metadata": {},
   "source": [
    "## SETUP"
   ]
  },
  {
   "cell_type": "code",
   "execution_count": 1,
   "metadata": {},
   "outputs": [
    {
     "name": "stderr",
     "output_type": "stream",
     "text": [
      "/Users/sohanm/EMEA/OCP/venv/lib/python3.11/site-packages/tqdm/auto.py:21: TqdmWarning: IProgress not found. Please update jupyter and ipywidgets. See https://ipywidgets.readthedocs.io/en/stable/user_install.html\n",
      "  from .autonotebook import tqdm as notebook_tqdm\n"
     ]
    }
   ],
   "source": [
    "import torch, torchaudio\n",
    "from transformers import AutoModelForSpeechSeq2Seq, AutoProcessor, pipeline"
   ]
  },
  {
   "cell_type": "code",
   "execution_count": 2,
   "metadata": {},
   "outputs": [
    {
     "name": "stdout",
     "output_type": "stream",
     "text": [
      "cpu torch.float32\n"
     ]
    },
    {
     "name": "stderr",
     "output_type": "stream",
     "text": [
      "/Users/sohanm/EMEA/OCP/venv/lib/python3.11/site-packages/huggingface_hub/file_download.py:1132: FutureWarning: `resume_download` is deprecated and will be removed in version 1.0.0. Downloads always resume when possible. If you want to force a new download, use `force_download=True`.\n",
      "  warnings.warn(\n",
      "Special tokens have been added in the vocabulary, make sure the associated word embeddings are fine-tuned or trained.\n"
     ]
    }
   ],
   "source": [
    "device = \"cuda:0\" if torch.cuda.is_available() else \"cpu\"\n",
    "torch_dtype = torch.float16 if torch.cuda.is_available() else torch.float32\n",
    "print(device , torch_dtype)\n",
    "\n",
    "model_id = \"openai/whisper-large-v3\"\n",
    "\n",
    "model = AutoModelForSpeechSeq2Seq.from_pretrained(\n",
    "    model_id, torch_dtype=torch_dtype, low_cpu_mem_usage=True, use_safetensors=True\n",
    ")\n",
    "model.to(device)\n",
    "\n",
    "processor = AutoProcessor.from_pretrained(model_id)\n",
    "\n",
    "pipe = pipeline(\n",
    "    task=\"automatic-speech-recognition\",\n",
    "    model=model,\n",
    "    tokenizer=processor.tokenizer,\n",
    "    feature_extractor=processor.feature_extractor,\n",
    "    max_new_tokens=128,\n",
    "    chunk_length_s=30,\n",
    "    batch_size=16,\n",
    "    return_timestamps=True,\n",
    "    torch_dtype=torch_dtype,\n",
    "    device=device,\n",
    "    generate_kwargs={\"language\": \"english\"}\n",
    ")\n",
    "\n",
    "# Special tokens have been added in the vocabulary, make sure the associated word embeddings are fine-tuned or trained."
   ]
  },
  {
   "cell_type": "code",
   "execution_count": 5,
   "metadata": {},
   "outputs": [],
   "source": [
    "def chunks_to_vtt(chunks):\n",
    "    vtt_content = \"WEBVTT\\n\\n\"\n",
    "    for idx, chunk in enumerate(chunks):\n",
    "        start_time = chunk[\"timestamp\"][0]\n",
    "        end_time = chunk[\"timestamp\"][1]\n",
    "        text = chunk[\"text\"].strip()\n",
    "        vtt_content += f\"{idx+1}\\n\"  # optional\n",
    "        vtt_content += f\"{format_time(start_time)} --> {format_time(end_time)}\\n\"\n",
    "        vtt_content += f\"{text}\\n\\n\"\n",
    "    return vtt_content\n",
    "\n",
    "def format_time(seconds):\n",
    "    hours = int(seconds / 3600)\n",
    "    seconds %= 3600\n",
    "    minutes = int(seconds / 60)\n",
    "    seconds %= 60\n",
    "    milliseconds = int((seconds - int(seconds)) * 1000)\n",
    "    return f\"{hours:02}:{minutes:02}:{int(seconds):02}.{milliseconds:03}\"\n",
    "\n",
    "\n",
    "# ------------------------------------------------------------------------------------------------------------------------------------------------------------------\n",
    "\n",
    "\n",
    "def convert_to_srt(chunks):\n",
    "    srt_content = ''\n",
    "    for i, chunk in enumerate(chunks, start=1):\n",
    "        start_time = chunk['timestamp'][0]\n",
    "        end_time = chunk['timestamp'][1]\n",
    "        text = chunk['text'].strip()\n",
    "        srt_content += f\"{i}\\n\"\n",
    "        srt_content += f\"{format_srt_time(start_time)} --> {format_srt_time(end_time)}\\n\"\n",
    "        srt_content += f\"{text}\\n\\n\"\n",
    "    return srt_content\n",
    "\n",
    "def format_srt_time(seconds):\n",
    "    milliseconds = int(seconds * 1000)\n",
    "    hours, milliseconds = divmod(milliseconds, 3600000)\n",
    "    minutes, milliseconds = divmod(milliseconds, 60000)\n",
    "    seconds = milliseconds / 1000\n",
    "    return \"{:02d}:{:02d}:{:06.3f}\".format(hours, minutes, seconds)"
   ]
  },
  {
   "cell_type": "code",
   "execution_count": null,
   "metadata": {},
   "outputs": [],
   "source": []
  },
  {
   "cell_type": "markdown",
   "metadata": {},
   "source": [
    "## AUDIO 1"
   ]
  },
  {
   "cell_type": "code",
   "execution_count": 87,
   "metadata": {},
   "outputs": [
    {
     "name": "stdout",
     "output_type": "stream",
     "text": [
      "Sampling Rate : 48000\n",
      "Waveform Shape : torch.Size([1, 9872160])\n"
     ]
    }
   ],
   "source": [
    "audio_file_path = \"/Users/sohanm/EMEA/OCP/240201-080649-570711.mp3\"\n",
    "waveform, sample_rate = torchaudio.load(audio_file_path)\n",
    "\n",
    "print(\"Sampling Rate :\", sample_rate)\n",
    "print(\"Waveform Shape :\", waveform.shape)"
   ]
  },
  {
   "cell_type": "code",
   "execution_count": 88,
   "metadata": {},
   "outputs": [
    {
     "name": "stderr",
     "output_type": "stream",
     "text": [
      "Whisper did not predict an ending timestamp, which can happen if audio is cut off in the middle of a word. Also make sure WhisperTimeStampLogitsProcessor was used during generation.\n"
     ]
    },
    {
     "data": {
      "text/plain": [
       "{'text': \" Bonjour. Oui, bonjour dame. Pharmacie d'Elysse à Montagnac. Oui. Référence 814-566. Alors, 814. Oui. Alors, je vous appelle parce qu'on a été livré cette nuit, après l'ouverture de la pharmacie. Et il nous manque un bac. Ah, on va vérifier ensemble. Alors, on va regarder ça de suite. En tout cas, il n'y a pas beaucoup de commandes, mais là, pour le coup... J'ai des produits urgents, ça m'embête un peu. Ouf. On va vérifier, je me mets juste sur... Ouh là là, j'ai sié les rames un peu. On va faire ça. Ça. Toc, toc, hop, voilà. Toc. 814, 566, hop. Hop, hop, hop. Voilà. Montpellier, Montpellier, Montpellier. Du coup, je suppose qu'on n'avait pas eu le BL. Alors, si vous voulez, j'ai tout eu. J'ai bien reçu les factures par mail. J'ai tout reçu, sauf les brûlures. Mais du coup, s'il vous plaît, je vais vous demander le numéro d'ordre sur le B.L. en haut à droite. Alors, attendez, parce que j'ai la facture. Vous avez le numéro du document sur la facture. Alors, c'est numéro de commande 811 891 71. Merci. Et du coup, là, il vous manquerait... Alors, une boîte d'alginate de sodium, un d'autarème et deux modopar. Un d'alginate, d'autarème et deux modopar. Je vérifie en même temps au niveau des factures oui oui oui ils sont là sur la commande c'était tout ce qu'il y avait il y avait ça et après j'avais un proie c'est un ipraphéine ça je l'ai reçu mais il me manque le dotarem les trois autres choses et surtout le plus urgent c'est le dotarem. Donc, moi ce que je vais faire, je vais... Parce que je crois que nos voisins sont livrés l'après-midi, alors si le livreur a le bac, s'il peut passer. D'accord, vous avez le nom de... L'autre pharmacie, c'est pharmacie... Alors, attendez, elle se fait appeler pharmacie de Montagnac, mais vous l'avez peut-être sous le nom de Palmier. P-A-L-M-I-E. Et c'est dans la même ville? Oui, oui, 34-530 Montagnac. Je le signale de mon côté. Je demande à ce qu'on vous rappelle pour vous dire ce qu'il en est, pour vous confirmer si ce sera possible ou non, Madame. D'accord, très bien. Voilà. Merci. Je vous en prie, Madame. Bonne journée. Au revoir. Au revoir, Madame.\",\n",
       " 'chunks': [{'timestamp': (0.0, 0.44), 'text': ' Bonjour.'},\n",
       "  {'timestamp': (1.22, 3.82),\n",
       "   'text': \" Oui, bonjour dame. Pharmacie d'Elysse à Montagnac.\"},\n",
       "  {'timestamp': (4.34, 4.52), 'text': ' Oui.'},\n",
       "  {'timestamp': (7.08, 9.5), 'text': ' Référence 814-566.'},\n",
       "  {'timestamp': (10.68, 11.8), 'text': ' Alors, 814.'},\n",
       "  {'timestamp': (12.6, 12.88), 'text': ' Oui.'},\n",
       "  {'timestamp': (14.02, 15.94),\n",
       "   'text': \" Alors, je vous appelle parce qu'on a été livré\"},\n",
       "  {'timestamp': (15.94, 18.08), 'text': \" cette nuit, après l'ouverture\"},\n",
       "  {'timestamp': (18.08, 18.7), 'text': ' de la pharmacie.'},\n",
       "  {'timestamp': (19.54, 20.9), 'text': ' Et il nous manque un bac.'},\n",
       "  {'timestamp': (21.5, 23.04), 'text': ' Ah, on va vérifier ensemble.'},\n",
       "  {'timestamp': (23.64, 26.5), 'text': ' Alors, on va regarder ça de suite.'},\n",
       "  {'timestamp': (28.76, 32.0),\n",
       "   'text': \" En tout cas, il n'y a pas beaucoup de commandes, mais là, pour le coup...\"},\n",
       "  {'timestamp': (33.66, 35.7),\n",
       "   'text': \" J'ai des produits urgents, ça m'embête un peu.\"},\n",
       "  {'timestamp': (36.4, 36.72), 'text': ' Ouf.'},\n",
       "  {'timestamp': (39.02, 41.0),\n",
       "   'text': ' On va vérifier, je me mets juste sur...'},\n",
       "  {'timestamp': (42.48, 44.2),\n",
       "   'text': \" Ouh là là, j'ai sié les rames un peu.\"},\n",
       "  {'timestamp': (46.22, 47.9), 'text': ' On va faire ça.'},\n",
       "  {'timestamp': (48.32, 49.58), 'text': ' Ça.'},\n",
       "  {'timestamp': (51.5, 52.96), 'text': ' Toc, toc, hop, voilà.'},\n",
       "  {'timestamp': (53.64, 55.64), 'text': ' Toc.'},\n",
       "  {'timestamp': (58.44, 60.14), 'text': ' 814, 566, hop.'},\n",
       "  {'timestamp': (61.84, 62.84), 'text': ' Hop, hop, hop.'},\n",
       "  {'timestamp': (63.34, 67.52),\n",
       "   'text': ' Voilà. Montpellier, Montpellier, Montpellier.'},\n",
       "  {'timestamp': (70.02, 73.12),\n",
       "   'text': \" Du coup, je suppose qu'on n'avait pas eu le BL.\"},\n",
       "  {'timestamp': (74.12, 81.98),\n",
       "   'text': \" Alors, si vous voulez, j'ai tout eu. J'ai bien reçu les factures par mail. J'ai tout reçu, sauf les brûlures.\"},\n",
       "  {'timestamp': (83.82, 85.94),\n",
       "   'text': \" Mais du coup, s'il vous plaît, je vais vous demander\"},\n",
       "  {'timestamp': (85.94, 88.34), 'text': \" le numéro d'ordre sur le\"},\n",
       "  {'timestamp': (88.34, 90.3),\n",
       "   'text': ' B.L. en haut à droite. Alors, attendez,'},\n",
       "  {'timestamp': (90.38, 91.68), 'text': \" parce que j'ai la facture.\"},\n",
       "  {'timestamp': (92.32, 94.46),\n",
       "   'text': ' Vous avez le numéro du document sur la facture.'},\n",
       "  {'timestamp': (94.58, 96.48), 'text': \" Alors, c'est\"},\n",
       "  {'timestamp': (96.48, 98.86), 'text': ' numéro de commande'},\n",
       "  {'timestamp': (98.86, 99.8), 'text': ' 811'},\n",
       "  {'timestamp': (99.8, 102.52), 'text': ' 891'},\n",
       "  {'timestamp': (102.52, 104.26), 'text': ' 71.'},\n",
       "  {'timestamp': (105.2, 105.68), 'text': ' Merci.'},\n",
       "  {'timestamp': (106.42, 109.34),\n",
       "   'text': ' Et du coup, là, il vous manquerait...'},\n",
       "  {'timestamp': (109.34, 115.9),\n",
       "   'text': \" Alors, une boîte d'alginate de sodium, un d'autarème et deux modopar.\"},\n",
       "  {'timestamp': (116.76, 123.2),\n",
       "   'text': \" Un d'alginate, d'autarème et deux modopar.\"},\n",
       "  {'timestamp': (127.26, 128.14),\n",
       "   'text': ' Je vérifie en même temps au niveau des factures'},\n",
       "  {'timestamp': (128.14, 129.74), 'text': ' oui oui oui'},\n",
       "  {'timestamp': (129.74, 132.18), 'text': ' ils sont là'},\n",
       "  {'timestamp': (132.18, 136.3),\n",
       "   'text': \" sur la commande c'était tout ce qu'il y avait\"},\n",
       "  {'timestamp': (136.3, 138.8),\n",
       "   'text': \" il y avait ça et après j'avais un proie\"},\n",
       "  {'timestamp': (138.8, 140.52), 'text': \" c'est un ipraphéine\"},\n",
       "  {'timestamp': (140.52, 142.4), 'text': \" ça je l'ai reçu mais\"},\n",
       "  {'timestamp': (142.4, 149.98),\n",
       "   'text': \" il me manque le dotarem les trois autres choses et surtout le plus urgent c'est le dotarem.\"},\n",
       "  {'timestamp': (151.66, 157.08),\n",
       "   'text': ' Donc, moi ce que je vais faire, je vais...'},\n",
       "  {'timestamp': (157.08, 164.04),\n",
       "   'text': \" Parce que je crois que nos voisins sont livrés l'après-midi, alors si le livreur a le bac, s'il peut passer.\"},\n",
       "  {'timestamp': (164.96, 167.94), 'text': \" D'accord, vous avez le nom de...\"},\n",
       "  {'timestamp': (167.94, 169.34), 'text': \" L'autre pharmacie,\"},\n",
       "  {'timestamp': (169.58, 171.66), 'text': \" c'est pharmacie...\"},\n",
       "  {'timestamp': (171.66, 173.24),\n",
       "   'text': ' Alors, attendez, elle se fait appeler'},\n",
       "  {'timestamp': (173.24, 175.22), 'text': ' pharmacie de Montagnac, mais'},\n",
       "  {'timestamp': (175.22, 177.3),\n",
       "   'text': \" vous l'avez peut-être sous le nom de\"},\n",
       "  {'timestamp': (177.3, 177.88), 'text': ' Palmier.'},\n",
       "  {'timestamp': (179.06, 181.54), 'text': ' P-A-L-M-I-E.'},\n",
       "  {'timestamp': (182.48, 184.14), 'text': \" Et c'est dans la même ville?\"},\n",
       "  {'timestamp': (187.06, 190.0), 'text': ' Oui, oui, 34-530 Montagnac.'},\n",
       "  {'timestamp': (199.68, 200.18),\n",
       "   'text': \" Je le signale de mon côté. Je demande à ce qu'on vous rappelle pour vous dire ce qu'il en est, pour vous confirmer si ce sera possible ou non, Madame.\"},\n",
       "  {'timestamp': (201.2, 201.28), 'text': \" D'accord, très bien.\"},\n",
       "  {'timestamp': (201.52, 201.92), 'text': ' Voilà.'},\n",
       "  {'timestamp': (202.32, 202.58), 'text': ' Merci.'},\n",
       "  {'timestamp': (203.62, 204.04),\n",
       "   'text': ' Je vous en prie, Madame. Bonne journée.'},\n",
       "  {'timestamp': (204.4, 204.6), 'text': ' Au revoir.'},\n",
       "  {'timestamp': (205.08, None), 'text': ' Au revoir, Madame.'}]}"
      ]
     },
     "execution_count": 88,
     "metadata": {},
     "output_type": "execute_result"
    }
   ],
   "source": [
    "transcription = pipe(audio_file_path,\n",
    "                    chunk_length_s=30,\n",
    "                    stride_length_s=5,\n",
    "                    batch_size=8,\n",
    "                    generate_kwargs={\"language\": \"french\"})\n",
    "transcription"
   ]
  },
  {
   "cell_type": "code",
   "execution_count": 89,
   "metadata": {},
   "outputs": [
    {
     "ename": "TypeError",
     "evalue": "unsupported operand type(s) for /: 'NoneType' and 'int'",
     "output_type": "error",
     "traceback": [
      "\u001b[0;31m---------------------------------------------------------------------------\u001b[0m",
      "\u001b[0;31mTypeError\u001b[0m                                 Traceback (most recent call last)",
      "Cell \u001b[0;32mIn[89], line 1\u001b[0m\n\u001b[0;32m----> 1\u001b[0m vtt_content \u001b[38;5;241m=\u001b[39m \u001b[43mchunks_to_vtt\u001b[49m\u001b[43m(\u001b[49m\u001b[43mtranscription\u001b[49m\u001b[43m[\u001b[49m\u001b[38;5;124;43m\"\u001b[39;49m\u001b[38;5;124;43mchunks\u001b[39;49m\u001b[38;5;124;43m\"\u001b[39;49m\u001b[43m]\u001b[49m\u001b[43m)\u001b[49m\n\u001b[1;32m      3\u001b[0m \u001b[38;5;66;03m# Convert chunks to VTT format\u001b[39;00m\n\u001b[1;32m      4\u001b[0m file_name \u001b[38;5;241m=\u001b[39m audio_file_path\u001b[38;5;241m.\u001b[39msplit(\u001b[38;5;124m\"\u001b[39m\u001b[38;5;124m.mp3\u001b[39m\u001b[38;5;124m\"\u001b[39m)[\u001b[38;5;241m0\u001b[39m]\n",
      "Cell \u001b[0;32mIn[5], line 8\u001b[0m, in \u001b[0;36mchunks_to_vtt\u001b[0;34m(chunks)\u001b[0m\n\u001b[1;32m      6\u001b[0m     text \u001b[38;5;241m=\u001b[39m chunk[\u001b[38;5;124m\"\u001b[39m\u001b[38;5;124mtext\u001b[39m\u001b[38;5;124m\"\u001b[39m]\u001b[38;5;241m.\u001b[39mstrip()\n\u001b[1;32m      7\u001b[0m     vtt_content \u001b[38;5;241m+\u001b[39m\u001b[38;5;241m=\u001b[39m \u001b[38;5;124mf\u001b[39m\u001b[38;5;124m\"\u001b[39m\u001b[38;5;132;01m{\u001b[39;00midx\u001b[38;5;241m+\u001b[39m\u001b[38;5;241m1\u001b[39m\u001b[38;5;132;01m}\u001b[39;00m\u001b[38;5;130;01m\\n\u001b[39;00m\u001b[38;5;124m\"\u001b[39m  \u001b[38;5;66;03m# optional\u001b[39;00m\n\u001b[0;32m----> 8\u001b[0m     vtt_content \u001b[38;5;241m+\u001b[39m\u001b[38;5;241m=\u001b[39m \u001b[38;5;124mf\u001b[39m\u001b[38;5;124m\"\u001b[39m\u001b[38;5;132;01m{\u001b[39;00mformat_time(start_time)\u001b[38;5;132;01m}\u001b[39;00m\u001b[38;5;124m --> \u001b[39m\u001b[38;5;132;01m{\u001b[39;00m\u001b[43mformat_time\u001b[49m\u001b[43m(\u001b[49m\u001b[43mend_time\u001b[49m\u001b[43m)\u001b[49m\u001b[38;5;132;01m}\u001b[39;00m\u001b[38;5;130;01m\\n\u001b[39;00m\u001b[38;5;124m\"\u001b[39m\n\u001b[1;32m      9\u001b[0m     vtt_content \u001b[38;5;241m+\u001b[39m\u001b[38;5;241m=\u001b[39m \u001b[38;5;124mf\u001b[39m\u001b[38;5;124m\"\u001b[39m\u001b[38;5;132;01m{\u001b[39;00mtext\u001b[38;5;132;01m}\u001b[39;00m\u001b[38;5;130;01m\\n\u001b[39;00m\u001b[38;5;130;01m\\n\u001b[39;00m\u001b[38;5;124m\"\u001b[39m\n\u001b[1;32m     10\u001b[0m \u001b[38;5;28;01mreturn\u001b[39;00m vtt_content\n",
      "Cell \u001b[0;32mIn[5], line 13\u001b[0m, in \u001b[0;36mformat_time\u001b[0;34m(seconds)\u001b[0m\n\u001b[1;32m     12\u001b[0m \u001b[38;5;28;01mdef\u001b[39;00m \u001b[38;5;21mformat_time\u001b[39m(seconds):\n\u001b[0;32m---> 13\u001b[0m     hours \u001b[38;5;241m=\u001b[39m \u001b[38;5;28mint\u001b[39m(\u001b[43mseconds\u001b[49m\u001b[43m \u001b[49m\u001b[38;5;241;43m/\u001b[39;49m\u001b[43m \u001b[49m\u001b[38;5;241;43m3600\u001b[39;49m)\n\u001b[1;32m     14\u001b[0m     seconds \u001b[38;5;241m%\u001b[39m\u001b[38;5;241m=\u001b[39m \u001b[38;5;241m3600\u001b[39m\n\u001b[1;32m     15\u001b[0m     minutes \u001b[38;5;241m=\u001b[39m \u001b[38;5;28mint\u001b[39m(seconds \u001b[38;5;241m/\u001b[39m \u001b[38;5;241m60\u001b[39m)\n",
      "\u001b[0;31mTypeError\u001b[0m: unsupported operand type(s) for /: 'NoneType' and 'int'"
     ]
    }
   ],
   "source": [
    "vtt_content = chunks_to_vtt(transcription[\"chunks\"])\n",
    "\n",
    "# Convert chunks to VTT format\n",
    "file_name = audio_file_path.split(\".mp3\")[0]\n",
    "with open(file_name+\".txt\", \"w\") as f:\n",
    "    f.write(vtt_content)"
   ]
  },
  {
   "cell_type": "code",
   "execution_count": 66,
   "metadata": {},
   "outputs": [
    {
     "ename": "TypeError",
     "evalue": "unsupported operand type(s) for *: 'NoneType' and 'int'",
     "output_type": "error",
     "traceback": [
      "\u001b[0;31m---------------------------------------------------------------------------\u001b[0m",
      "\u001b[0;31mTypeError\u001b[0m                                 Traceback (most recent call last)",
      "Cell \u001b[0;32mIn[66], line 1\u001b[0m\n\u001b[0;32m----> 1\u001b[0m srt_content \u001b[38;5;241m=\u001b[39m \u001b[43mconvert_to_srt\u001b[49m\u001b[43m(\u001b[49m\u001b[43mtranscription\u001b[49m\u001b[43m[\u001b[49m\u001b[38;5;124;43m\"\u001b[39;49m\u001b[38;5;124;43mchunks\u001b[39;49m\u001b[38;5;124;43m\"\u001b[39;49m\u001b[43m]\u001b[49m\u001b[43m)\u001b[49m\n\u001b[1;32m      3\u001b[0m \u001b[38;5;66;03m# Convert chunks to SRT format\u001b[39;00m\n\u001b[1;32m      4\u001b[0m file_name \u001b[38;5;241m=\u001b[39m audio_file_path\u001b[38;5;241m.\u001b[39msplit(\u001b[38;5;124m\"\u001b[39m\u001b[38;5;124m.mp4\u001b[39m\u001b[38;5;124m\"\u001b[39m)[\u001b[38;5;241m0\u001b[39m]\n",
      "Cell \u001b[0;32mIn[5], line 31\u001b[0m, in \u001b[0;36mconvert_to_srt\u001b[0;34m(chunks)\u001b[0m\n\u001b[1;32m     29\u001b[0m     text \u001b[38;5;241m=\u001b[39m chunk[\u001b[38;5;124m'\u001b[39m\u001b[38;5;124mtext\u001b[39m\u001b[38;5;124m'\u001b[39m]\u001b[38;5;241m.\u001b[39mstrip()\n\u001b[1;32m     30\u001b[0m     srt_content \u001b[38;5;241m+\u001b[39m\u001b[38;5;241m=\u001b[39m \u001b[38;5;124mf\u001b[39m\u001b[38;5;124m\"\u001b[39m\u001b[38;5;132;01m{\u001b[39;00mi\u001b[38;5;132;01m}\u001b[39;00m\u001b[38;5;130;01m\\n\u001b[39;00m\u001b[38;5;124m\"\u001b[39m\n\u001b[0;32m---> 31\u001b[0m     srt_content \u001b[38;5;241m+\u001b[39m\u001b[38;5;241m=\u001b[39m \u001b[38;5;124mf\u001b[39m\u001b[38;5;124m\"\u001b[39m\u001b[38;5;132;01m{\u001b[39;00mformat_srt_time(start_time)\u001b[38;5;132;01m}\u001b[39;00m\u001b[38;5;124m --> \u001b[39m\u001b[38;5;132;01m{\u001b[39;00m\u001b[43mformat_srt_time\u001b[49m\u001b[43m(\u001b[49m\u001b[43mend_time\u001b[49m\u001b[43m)\u001b[49m\u001b[38;5;132;01m}\u001b[39;00m\u001b[38;5;130;01m\\n\u001b[39;00m\u001b[38;5;124m\"\u001b[39m\n\u001b[1;32m     32\u001b[0m     srt_content \u001b[38;5;241m+\u001b[39m\u001b[38;5;241m=\u001b[39m \u001b[38;5;124mf\u001b[39m\u001b[38;5;124m\"\u001b[39m\u001b[38;5;132;01m{\u001b[39;00mtext\u001b[38;5;132;01m}\u001b[39;00m\u001b[38;5;130;01m\\n\u001b[39;00m\u001b[38;5;130;01m\\n\u001b[39;00m\u001b[38;5;124m\"\u001b[39m\n\u001b[1;32m     33\u001b[0m \u001b[38;5;28;01mreturn\u001b[39;00m srt_content\n",
      "Cell \u001b[0;32mIn[5], line 36\u001b[0m, in \u001b[0;36mformat_srt_time\u001b[0;34m(seconds)\u001b[0m\n\u001b[1;32m     35\u001b[0m \u001b[38;5;28;01mdef\u001b[39;00m \u001b[38;5;21mformat_srt_time\u001b[39m(seconds):\n\u001b[0;32m---> 36\u001b[0m     milliseconds \u001b[38;5;241m=\u001b[39m \u001b[38;5;28mint\u001b[39m(\u001b[43mseconds\u001b[49m\u001b[43m \u001b[49m\u001b[38;5;241;43m*\u001b[39;49m\u001b[43m \u001b[49m\u001b[38;5;241;43m1000\u001b[39;49m)\n\u001b[1;32m     37\u001b[0m     hours, milliseconds \u001b[38;5;241m=\u001b[39m \u001b[38;5;28mdivmod\u001b[39m(milliseconds, \u001b[38;5;241m3600000\u001b[39m)\n\u001b[1;32m     38\u001b[0m     minutes, milliseconds \u001b[38;5;241m=\u001b[39m \u001b[38;5;28mdivmod\u001b[39m(milliseconds, \u001b[38;5;241m60000\u001b[39m)\n",
      "\u001b[0;31mTypeError\u001b[0m: unsupported operand type(s) for *: 'NoneType' and 'int'"
     ]
    }
   ],
   "source": [
    "srt_content = convert_to_srt(transcription[\"chunks\"])\n",
    "\n",
    "# Convert chunks to SRT format\n",
    "file_name = audio_file_path.split(\".mp4\")[0]\n",
    "with open(file_name+\"_output.srt\", \"w\") as f:\n",
    "    f.write(srt_content)"
   ]
  },
  {
   "cell_type": "code",
   "execution_count": null,
   "metadata": {},
   "outputs": [],
   "source": []
  },
  {
   "cell_type": "markdown",
   "metadata": {},
   "source": [
    "## AUDIO 2"
   ]
  },
  {
   "cell_type": "code",
   "execution_count": null,
   "metadata": {},
   "outputs": [],
   "source": [
    "audio_file_path = \"/Users/gautam/Code/WatsonX_Foundations/project_gse/results/IBM Tech Now_ IBM watsonx.ai demo, AI and sustainability, and the AI Bundle for IBM Z and LinuxONE.mp4\"\n",
    "waveform, sample_rate = torchaudio.load(audio_file_path)\n",
    "\n",
    "print(\"Sampling Rate :\", sample_rate)\n",
    "print(\"Waveform Shape :\", waveform.shape)"
   ]
  },
  {
   "cell_type": "code",
   "execution_count": null,
   "metadata": {},
   "outputs": [],
   "source": [
    "transcription = pipe(audio_file_path,\n",
    "                    chunk_length_s=30,\n",
    "                    stride_length_s=5,\n",
    "                    batch_size=8,\n",
    "                    generate_kwargs={\"language\": \"english\"})\n",
    "transcription"
   ]
  },
  {
   "cell_type": "code",
   "execution_count": null,
   "metadata": {},
   "outputs": [],
   "source": [
    "vtt_content = chunks_to_vtt(transcription[\"chunks\"])\n",
    "\n",
    "file_name = audio_file_path.split(\".mp4\")[0]\n",
    "with open(file_name+\"_output.vtt\", \"w\") as f:\n",
    "    f.write(vtt_content)                             "
   ]
  },
  {
   "cell_type": "code",
   "execution_count": null,
   "metadata": {},
   "outputs": [],
   "source": []
  },
  {
   "cell_type": "markdown",
   "metadata": {},
   "source": [
    "## AUDIO 3"
   ]
  },
  {
   "cell_type": "code",
   "execution_count": null,
   "metadata": {},
   "outputs": [],
   "source": [
    "audio_file_path = \"/Users/gautam/Code/WatsonX_Foundations/project_gse/results/Customer Care L1 Intro Video.MP4\"\n",
    "waveform, sample_rate = torchaudio.load(audio_file_path)\n",
    "\n",
    "print(\"Sampling Rate :\", sample_rate)\n",
    "print(\"Waveform Shape :\", waveform.shape)"
   ]
  },
  {
   "cell_type": "code",
   "execution_count": null,
   "metadata": {},
   "outputs": [],
   "source": [
    "transcription = pipe(audio_file_path,\n",
    "                    chunk_length_s=30,\n",
    "                    stride_length_s=5,\n",
    "                    batch_size=8,\n",
    "                    generate_kwargs={\"language\": \"english\"})\n",
    "transcription"
   ]
  },
  {
   "cell_type": "code",
   "execution_count": null,
   "metadata": {},
   "outputs": [],
   "source": [
    "vtt_content = chunks_to_vtt(transcription[\"chunks\"])\n",
    "\n",
    "file_name = audio_file_path.casefold().split(\".mp4\")[0]\n",
    "with open(file_name+\"_output.vtt\", \"w\") as f:\n",
    "    f.write(vtt_content)"
   ]
  },
  {
   "cell_type": "code",
   "execution_count": null,
   "metadata": {},
   "outputs": [],
   "source": []
  },
  {
   "cell_type": "markdown",
   "metadata": {},
   "source": [
    "## AUDIO 4"
   ]
  },
  {
   "cell_type": "code",
   "execution_count": null,
   "metadata": {},
   "outputs": [],
   "source": [
    "audio_file_path = \"/Users/gautam/Code/WatsonX_Foundations/project_gse/results/Facilitation Introduction to the course.MP4\"\n",
    "waveform, sample_rate = torchaudio.load(audio_file_path)\n",
    "\n",
    "print(\"Sampling Rate :\", sample_rate)\n",
    "print(\"Waveform Shape :\", waveform.shape)"
   ]
  },
  {
   "cell_type": "code",
   "execution_count": null,
   "metadata": {},
   "outputs": [],
   "source": [
    "transcription = pipe(audio_file_path,\n",
    "                    chunk_length_s=30,\n",
    "                    stride_length_s=5,\n",
    "                    batch_size=8,\n",
    "                    generate_kwargs={\"language\": \"english\"})\n",
    "transcription"
   ]
  },
  {
   "cell_type": "code",
   "execution_count": null,
   "metadata": {},
   "outputs": [],
   "source": [
    "vtt_content = chunks_to_vtt(transcription[\"chunks\"])\n",
    "\n",
    "file_name = audio_file_path.casefold().split(\".mp4\")[0]\n",
    "with open(file_name+\"_output.vtt\", \"w\") as f:\n",
    "    f.write(vtt_content)"
   ]
  },
  {
   "cell_type": "code",
   "execution_count": null,
   "metadata": {},
   "outputs": [],
   "source": []
  }
 ],
 "metadata": {
  "kernelspec": {
   "display_name": "gse_env",
   "language": "python",
   "name": "python3"
  },
  "language_info": {
   "codemirror_mode": {
    "name": "ipython",
    "version": 3
   },
   "file_extension": ".py",
   "mimetype": "text/x-python",
   "name": "python",
   "nbconvert_exporter": "python",
   "pygments_lexer": "ipython3",
   "version": "3.11.7"
  }
 },
 "nbformat": 4,
 "nbformat_minor": 2
}
